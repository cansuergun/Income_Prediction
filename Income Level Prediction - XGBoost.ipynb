{
 "cells": [
  {
   "cell_type": "code",
   "execution_count": 58,
   "metadata": {},
   "outputs": [],
   "source": [
    "import pandas as pd\n",
    "import xgboost as xgb \n",
    "from xgboost import XGBClassifier\n",
    "from sklearn.model_selection import GridSearchCV"
   ]
  },
  {
   "cell_type": "markdown",
   "metadata": {},
   "source": [
    "**Read Model Data**"
   ]
  },
  {
   "cell_type": "code",
   "execution_count": 59,
   "metadata": {},
   "outputs": [],
   "source": [
    "X_train=pd.read_csv(\"./Model_Data/XGBOOST_X_train.csv\")\n",
    "X_test=pd.read_csv(\"./Model_Data/XGBOOST_X_test.csv\")\n",
    "y_train=pd.read_csv(\"./Model_Data/XGBOOST_y_train.csv\")\n",
    "y_test=pd.read_csv(\"./Model_Data/XGBOOST_y_test.csv\")"
   ]
  },
  {
   "cell_type": "code",
   "execution_count": 60,
   "metadata": {},
   "outputs": [],
   "source": [
    "X_train = X_train.drop(X_train.columns[0], axis=1)\n",
    "X_test = X_test.drop(X_test.columns[0], axis=1)\n",
    "y_train = y_train.drop(y_train.columns[0], axis=1)\n",
    "y_test = y_test.drop(y_test.columns[0], axis=1)"
   ]
  },
  {
   "cell_type": "markdown",
   "metadata": {},
   "source": [
    "**Set Model Parameters**"
   ]
  },
  {
   "cell_type": "code",
   "execution_count": 61,
   "metadata": {},
   "outputs": [],
   "source": [
    "parameters={'max_depth': 6, \n",
    "            'eta' : 0.3,\n",
    "            'objective':'binary:logistic',\n",
    "            'seed' : 4241,\n",
    "            'min_child_weight' : 5,\n",
    "            'n_estimators' : 250\n",
    "           }"
   ]
  },
  {
   "cell_type": "markdown",
   "metadata": {},
   "source": [
    "**Train Model**"
   ]
  },
  {
   "cell_type": "code",
   "execution_count": 62,
   "metadata": {},
   "outputs": [
    {
     "name": "stdout",
     "output_type": "stream",
     "text": [
      "[0]\tvalidation_0-auc:0.88369\tvalidation_1-auc:0.88564\n",
      "Multiple eval metrics have been passed: 'validation_1-auc' will be used for early stopping.\n",
      "\n",
      "Will train until validation_1-auc hasn't improved in 20 rounds.\n",
      "[1]\tvalidation_0-auc:0.89466\tvalidation_1-auc:0.89522\n",
      "[2]\tvalidation_0-auc:0.90180\tvalidation_1-auc:0.90209\n",
      "[3]\tvalidation_0-auc:0.90494\tvalidation_1-auc:0.90565\n",
      "[4]\tvalidation_0-auc:0.90920\tvalidation_1-auc:0.90939\n",
      "[5]\tvalidation_0-auc:0.91098\tvalidation_1-auc:0.91084\n",
      "[6]\tvalidation_0-auc:0.91308\tvalidation_1-auc:0.91316\n",
      "[7]\tvalidation_0-auc:0.91497\tvalidation_1-auc:0.91489\n",
      "[8]\tvalidation_0-auc:0.91665\tvalidation_1-auc:0.91582\n",
      "[9]\tvalidation_0-auc:0.91842\tvalidation_1-auc:0.91801\n",
      "[10]\tvalidation_0-auc:0.91998\tvalidation_1-auc:0.91900\n",
      "[11]\tvalidation_0-auc:0.92168\tvalidation_1-auc:0.91980\n",
      "[12]\tvalidation_0-auc:0.92265\tvalidation_1-auc:0.92032\n",
      "[13]\tvalidation_0-auc:0.92339\tvalidation_1-auc:0.92087\n",
      "[14]\tvalidation_0-auc:0.92457\tvalidation_1-auc:0.92158\n",
      "[15]\tvalidation_0-auc:0.92552\tvalidation_1-auc:0.92205\n",
      "[16]\tvalidation_0-auc:0.92666\tvalidation_1-auc:0.92268\n",
      "[17]\tvalidation_0-auc:0.92890\tvalidation_1-auc:0.92414\n",
      "[18]\tvalidation_0-auc:0.92992\tvalidation_1-auc:0.92462\n",
      "[19]\tvalidation_0-auc:0.93051\tvalidation_1-auc:0.92515\n",
      "[20]\tvalidation_0-auc:0.93128\tvalidation_1-auc:0.92543\n",
      "[21]\tvalidation_0-auc:0.93252\tvalidation_1-auc:0.92654\n",
      "[22]\tvalidation_0-auc:0.93320\tvalidation_1-auc:0.92722\n",
      "[23]\tvalidation_0-auc:0.93393\tvalidation_1-auc:0.92750\n",
      "[24]\tvalidation_0-auc:0.93473\tvalidation_1-auc:0.92795\n",
      "[25]\tvalidation_0-auc:0.93548\tvalidation_1-auc:0.92875\n",
      "[26]\tvalidation_0-auc:0.93577\tvalidation_1-auc:0.92896\n",
      "[27]\tvalidation_0-auc:0.93625\tvalidation_1-auc:0.92917\n",
      "[28]\tvalidation_0-auc:0.93668\tvalidation_1-auc:0.92965\n",
      "[29]\tvalidation_0-auc:0.93689\tvalidation_1-auc:0.92970\n",
      "[30]\tvalidation_0-auc:0.93725\tvalidation_1-auc:0.93003\n",
      "[31]\tvalidation_0-auc:0.93766\tvalidation_1-auc:0.93008\n",
      "[32]\tvalidation_0-auc:0.93785\tvalidation_1-auc:0.93012\n",
      "[33]\tvalidation_0-auc:0.93841\tvalidation_1-auc:0.92986\n",
      "[34]\tvalidation_0-auc:0.93910\tvalidation_1-auc:0.93008\n",
      "[35]\tvalidation_0-auc:0.93932\tvalidation_1-auc:0.93011\n",
      "[36]\tvalidation_0-auc:0.93959\tvalidation_1-auc:0.93042\n",
      "[37]\tvalidation_0-auc:0.93996\tvalidation_1-auc:0.93060\n",
      "[38]\tvalidation_0-auc:0.94043\tvalidation_1-auc:0.93080\n",
      "[39]\tvalidation_0-auc:0.94058\tvalidation_1-auc:0.93076\n",
      "[40]\tvalidation_0-auc:0.94070\tvalidation_1-auc:0.93080\n",
      "[41]\tvalidation_0-auc:0.94093\tvalidation_1-auc:0.93103\n",
      "[42]\tvalidation_0-auc:0.94111\tvalidation_1-auc:0.93103\n",
      "[43]\tvalidation_0-auc:0.94145\tvalidation_1-auc:0.93110\n",
      "[44]\tvalidation_0-auc:0.94174\tvalidation_1-auc:0.93125\n",
      "[45]\tvalidation_0-auc:0.94211\tvalidation_1-auc:0.93145\n",
      "[46]\tvalidation_0-auc:0.94258\tvalidation_1-auc:0.93127\n",
      "[47]\tvalidation_0-auc:0.94287\tvalidation_1-auc:0.93141\n",
      "[48]\tvalidation_0-auc:0.94320\tvalidation_1-auc:0.93124\n",
      "[49]\tvalidation_0-auc:0.94344\tvalidation_1-auc:0.93104\n",
      "[50]\tvalidation_0-auc:0.94359\tvalidation_1-auc:0.93124\n",
      "[51]\tvalidation_0-auc:0.94374\tvalidation_1-auc:0.93128\n",
      "[52]\tvalidation_0-auc:0.94404\tvalidation_1-auc:0.93137\n",
      "[53]\tvalidation_0-auc:0.94410\tvalidation_1-auc:0.93138\n",
      "[54]\tvalidation_0-auc:0.94445\tvalidation_1-auc:0.93134\n",
      "[55]\tvalidation_0-auc:0.94450\tvalidation_1-auc:0.93129\n",
      "[56]\tvalidation_0-auc:0.94461\tvalidation_1-auc:0.93129\n",
      "[57]\tvalidation_0-auc:0.94483\tvalidation_1-auc:0.93128\n",
      "[58]\tvalidation_0-auc:0.94522\tvalidation_1-auc:0.93127\n",
      "[59]\tvalidation_0-auc:0.94534\tvalidation_1-auc:0.93139\n",
      "[60]\tvalidation_0-auc:0.94544\tvalidation_1-auc:0.93143\n",
      "[61]\tvalidation_0-auc:0.94576\tvalidation_1-auc:0.93149\n",
      "[62]\tvalidation_0-auc:0.94643\tvalidation_1-auc:0.93158\n",
      "[63]\tvalidation_0-auc:0.94658\tvalidation_1-auc:0.93159\n",
      "[64]\tvalidation_0-auc:0.94686\tvalidation_1-auc:0.93134\n",
      "[65]\tvalidation_0-auc:0.94712\tvalidation_1-auc:0.93115\n",
      "[66]\tvalidation_0-auc:0.94728\tvalidation_1-auc:0.93106\n",
      "[67]\tvalidation_0-auc:0.94733\tvalidation_1-auc:0.93116\n",
      "[68]\tvalidation_0-auc:0.94743\tvalidation_1-auc:0.93113\n",
      "[69]\tvalidation_0-auc:0.94803\tvalidation_1-auc:0.93104\n",
      "[70]\tvalidation_0-auc:0.94824\tvalidation_1-auc:0.93101\n",
      "[71]\tvalidation_0-auc:0.94883\tvalidation_1-auc:0.93088\n",
      "[72]\tvalidation_0-auc:0.94908\tvalidation_1-auc:0.93081\n",
      "[73]\tvalidation_0-auc:0.94912\tvalidation_1-auc:0.93088\n",
      "[74]\tvalidation_0-auc:0.94929\tvalidation_1-auc:0.93085\n",
      "[75]\tvalidation_0-auc:0.94949\tvalidation_1-auc:0.93088\n",
      "[76]\tvalidation_0-auc:0.94971\tvalidation_1-auc:0.93100\n",
      "[77]\tvalidation_0-auc:0.94979\tvalidation_1-auc:0.93094\n",
      "[78]\tvalidation_0-auc:0.95003\tvalidation_1-auc:0.93093\n",
      "[79]\tvalidation_0-auc:0.95007\tvalidation_1-auc:0.93091\n",
      "[80]\tvalidation_0-auc:0.95009\tvalidation_1-auc:0.93099\n",
      "[81]\tvalidation_0-auc:0.95020\tvalidation_1-auc:0.93104\n",
      "[82]\tvalidation_0-auc:0.95024\tvalidation_1-auc:0.93109\n",
      "[83]\tvalidation_0-auc:0.95083\tvalidation_1-auc:0.93107\n",
      "Stopping. Best iteration:\n",
      "[63]\tvalidation_0-auc:0.94658\tvalidation_1-auc:0.93159\n",
      "\n"
     ]
    }
   ],
   "source": [
    "n_first = int(X_train.shape[0]*0.8)\n",
    "model = xgb.XGBClassifier(**parameters, nthread = 1)\n",
    "model = model.fit(X_train.iloc[:n_first], y_train[:n_first],\n",
    "          eval_set = [(X_train.iloc[:n_first], y_train[:n_first]),\n",
    "                      (X_train.iloc[n_first:], y_train[n_first:])],\n",
    "          eval_metric = 'auc',\n",
    "          verbose = True,\n",
    "          early_stopping_rounds=20) "
   ]
  }
 ],
 "metadata": {
  "kernelspec": {
   "display_name": "p37",
   "language": "python",
   "name": "p37"
  },
  "language_info": {
   "codemirror_mode": {
    "name": "ipython",
    "version": 3
   },
   "file_extension": ".py",
   "mimetype": "text/x-python",
   "name": "python",
   "nbconvert_exporter": "python",
   "pygments_lexer": "ipython3",
   "version": "3.7.5"
  }
 },
 "nbformat": 4,
 "nbformat_minor": 4
}
