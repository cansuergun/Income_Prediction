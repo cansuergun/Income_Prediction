{
 "cells": [
  {
   "cell_type": "markdown",
   "metadata": {},
   "source": [
    "## Import Libraries"
   ]
  },
  {
   "cell_type": "code",
   "execution_count": 1,
   "metadata": {},
   "outputs": [],
   "source": [
    "import boto3\n",
    "import pandas as pd\n",
    "import sagemaker\n",
    "from sagemaker import get_execution_role\n",
    "import pandas as pd\n",
    "import io\n",
    "import pickle\n",
    "import os\n",
    "import tarfile\n",
    "import matplotlib.pyplot as plt\n",
    "import seaborn as sns\n",
    "from sagemaker.predictor import csv_serializer\n",
    "from sklearn.metrics import roc_curve, auc, roc_auc_score,accuracy_score "
   ]
  },
  {
   "cell_type": "markdown",
   "metadata": {},
   "source": [
    "## Get S3 Bucket and Prefix and the IAM Role "
   ]
  },
  {
   "cell_type": "code",
   "execution_count": 2,
   "metadata": {},
   "outputs": [
    {
     "name": "stdout",
     "output_type": "stream",
     "text": [
      "s3.ObjectSummary(bucket_name='hypatai-income-bucket', key='XGBOOST_X_test.csv')\n",
      "s3.ObjectSummary(bucket_name='hypatai-income-bucket', key='XGBOOST_X_train.csv')\n",
      "s3.ObjectSummary(bucket_name='hypatai-income-bucket', key='XGBOOST_model.pickle')\n",
      "s3.ObjectSummary(bucket_name='hypatai-income-bucket', key='XGBOOST_y_test.csv')\n",
      "s3.ObjectSummary(bucket_name='hypatai-income-bucket', key='XGBOOST_y_train.csv')\n"
     ]
    }
   ],
   "source": [
    "role = get_execution_role()\n",
    "\n",
    "s3_resource = boto3.resource('s3')\n",
    "s3_client = boto3.client('s3')\n",
    "income_bucket_name='hypatai-income-bucket'\n",
    "income_bucket = s3_resource.Bucket(income_bucket_name)\n",
    "prefix = 'sagemaker'\n",
    "\n",
    "#Normally it is better to keep all generated data and model versions in S3 path 'hypatai-income-bucket/sagemaker', \n",
    "#below 2 lines are not comment out just for demonstration purposes\n",
    "objects = income_bucket.objects.filter(Prefix=prefix)\n",
    "objects.delete()\n",
    "\n",
    "for obj in income_bucket.objects.all():\n",
    "    print(obj)"
   ]
  },
  {
   "cell_type": "markdown",
   "metadata": {},
   "source": [
    "## Function to read from S3"
   ]
  },
  {
   "cell_type": "code",
   "execution_count": 3,
   "metadata": {},
   "outputs": [],
   "source": [
    "def read_from_s3(bucket_name,file_name,filetype):\n",
    "    obj = s3_client.get_object(Bucket=bucket_name, Key=file_name)\n",
    "    if filetype==\"csv\":\n",
    "        data=pd.read_csv(io.BytesIO(obj['Body'].read()))\n",
    "        data=data[list(data.columns)[1:]]\n",
    "    elif filetype==\"pickle\":\n",
    "        with io.BytesIO() as data:\n",
    "            s3_resource.Bucket(bucket_name).download_fileobj(file_name, data)\n",
    "            data.seek(0)    \n",
    "            data = pickle.load(data)\n",
    "\n",
    "    return data"
   ]
  },
  {
   "cell_type": "markdown",
   "metadata": {},
   "source": [
    "## Read Input Data for Training"
   ]
  },
  {
   "cell_type": "code",
   "execution_count": 4,
   "metadata": {},
   "outputs": [],
   "source": [
    "trainXkey = 'XGBOOST_X_train.csv'\n",
    "testXkey = 'XGBOOST_X_test.csv'\n",
    "trainykey = 'XGBOOST_y_train.csv'\n",
    "testykey = 'XGBOOST_y_test.csv'\n",
    "\n",
    "#XGBOOST_X_train=read_from_s3(income_bucket_name,trainXkey,'csv')\n",
    "#XGBOOST_X_test=read_from_s3(income_bucket_name,testXkey,'csv')\n",
    "#XGBOOST_y_train=read_from_s3(income_bucket_name,trainykey,'csv')\n",
    "#XGBOOST_y_test=read_from_s3(income_bucket_name,testykey,'csv')\n",
    "\n",
    "XGBOOST_X_train=pd.read_csv('s3://'+income_bucket_name+'/'+trainXkey).iloc[:,1:]\n",
    "XGBOOST_X_test=pd.read_csv('s3://'+income_bucket_name+'/'+testXkey).iloc[:,1:]\n",
    "XGBOOST_y_train=pd.read_csv('s3://'+income_bucket_name+'/'+trainykey).iloc[:,1:]\n",
    "XGBOOST_y_test=pd.read_csv('s3://'+income_bucket_name+'/'+testykey).iloc[:,1:]"
   ]
  },
  {
   "cell_type": "markdown",
   "metadata": {},
   "source": [
    "## Read Existing model"
   ]
  },
  {
   "cell_type": "code",
   "execution_count": 5,
   "metadata": {},
   "outputs": [
    {
     "data": {
      "text/plain": [
       "XGBClassifier(base_score=0.5, booster='gbtree', colsample_bylevel=1,\n",
       "              colsample_bynode=1, colsample_bytree=1, eta=0.3, gamma=0,\n",
       "              gpu_id=-1, importance_type='gain', interaction_constraints='',\n",
       "              learning_rate=0.300000012, max_delta_step=0, max_depth=6,\n",
       "              min_child_weight=5, missing=nan, monotone_constraints='()',\n",
       "              n_estimators=250, n_jobs=1, nthread=1, num_parallel_tree=1,\n",
       "              objective='binary:logistic', random_state=4241, reg_alpha=0,\n",
       "              reg_lambda=1, scale_pos_weight=1, seed=4241, subsample=1,\n",
       "              tree_method='exact', validate_parameters=1, verbosity=None)"
      ]
     },
     "execution_count": 5,
     "metadata": {},
     "output_type": "execute_result"
    }
   ],
   "source": [
    "#ex_model=read_from_s3(income_bucket_name,'XGBOOST_model.pickle','pickle')\n",
    "ex_model=pd.read_pickle('s3://'+income_bucket_name+'/'+'XGBOOST_model.pickle')\n",
    "ex_model"
   ]
  },
  {
   "cell_type": "markdown",
   "metadata": {},
   "source": [
    "## Specify the Locations of the XGBoost Algorithm Containers"
   ]
  },
  {
   "cell_type": "code",
   "execution_count": 6,
   "metadata": {},
   "outputs": [
    {
     "name": "stderr",
     "output_type": "stream",
     "text": [
      "'get_image_uri' method will be deprecated in favor of 'ImageURIProvider' class in SageMaker Python SDK v2.\n"
     ]
    }
   ],
   "source": [
    "from sagemaker.amazon.amazon_estimator import get_image_uri\n",
    "container = get_image_uri(boto3.Session().region_name, 'xgboost','1.0-1')"
   ]
  },
  {
   "cell_type": "markdown",
   "metadata": {},
   "source": [
    "## Convert Input Data into SageMaker Acceptable Format"
   ]
  },
  {
   "cell_type": "code",
   "execution_count": 7,
   "metadata": {},
   "outputs": [],
   "source": [
    "XGBOOST_train_sage=pd.concat([XGBOOST_y_train,XGBOOST_X_train],axis=1)\n",
    "n_first = int(XGBOOST_train_sage.shape[0]*0.8)\n",
    "X_train_fit=XGBOOST_train_sage.iloc[:n_first]\n",
    "X_train_valid=XGBOOST_train_sage.iloc[n_first:]"
   ]
  },
  {
   "cell_type": "markdown",
   "metadata": {},
   "source": [
    "## Save Created Data on S3"
   ]
  },
  {
   "cell_type": "code",
   "execution_count": 8,
   "metadata": {},
   "outputs": [],
   "source": [
    "out_sagemaker_fit_key=\"TrainDataFit-xgboost-sagemaker.csv\"\n",
    "out_sagemaker_valid_key=\"ValidData-xgboost-sagemaker.csv\"\n",
    "\n",
    "X_train_fit.to_csv(out_sagemaker_fit_key,header=False,index=False)\n",
    "X_train_valid.to_csv(out_sagemaker_valid_key,header=False,index=False)\n",
    "\n",
    "income_bucket.Object(os.path.join(prefix,out_sagemaker_fit_key)).upload_file(out_sagemaker_fit_key)\n",
    "income_bucket.Object(os.path.join(prefix,out_sagemaker_valid_key)).upload_file(out_sagemaker_valid_key)"
   ]
  },
  {
   "cell_type": "code",
   "execution_count": 9,
   "metadata": {},
   "outputs": [
    {
     "name": "stdout",
     "output_type": "stream",
     "text": [
      "s3.ObjectSummary(bucket_name='hypatai-income-bucket', key='XGBOOST_X_test.csv')\n",
      "s3.ObjectSummary(bucket_name='hypatai-income-bucket', key='XGBOOST_X_train.csv')\n",
      "s3.ObjectSummary(bucket_name='hypatai-income-bucket', key='XGBOOST_model.pickle')\n",
      "s3.ObjectSummary(bucket_name='hypatai-income-bucket', key='XGBOOST_y_test.csv')\n",
      "s3.ObjectSummary(bucket_name='hypatai-income-bucket', key='XGBOOST_y_train.csv')\n",
      "s3.ObjectSummary(bucket_name='hypatai-income-bucket', key='sagemaker/TrainDataFit-xgboost-sagemaker.csv')\n",
      "s3.ObjectSummary(bucket_name='hypatai-income-bucket', key='sagemaker/ValidData-xgboost-sagemaker.csv')\n"
     ]
    }
   ],
   "source": [
    "for obj in income_bucket.objects.all():\n",
    "    print(obj)"
   ]
  },
  {
   "cell_type": "markdown",
   "metadata": {},
   "source": [
    "## Create s3_inputs where Training Function could Use as a Pointer to the Files in S3"
   ]
  },
  {
   "cell_type": "code",
   "execution_count": 10,
   "metadata": {},
   "outputs": [
    {
     "name": "stderr",
     "output_type": "stream",
     "text": [
      "'s3_input' class will be renamed to 'TrainingInput' in SageMaker Python SDK v2.\n",
      "'s3_input' class will be renamed to 'TrainingInput' in SageMaker Python SDK v2.\n"
     ]
    }
   ],
   "source": [
    "s3_input_train = sagemaker.s3_input(s3_data='s3://{}/sagemaker/{}'.format(income_bucket_name, out_sagemaker_fit_key), content_type='csv')\n",
    "s3_input_validation = sagemaker.s3_input(s3_data='s3://{}/sagemaker/{}'.format(income_bucket_name, out_sagemaker_valid_key), content_type='csv')"
   ]
  },
  {
   "cell_type": "markdown",
   "metadata": {},
   "source": [
    "## Start Training by Using SageMaker's  Built-in XGBoost Algorithm"
   ]
  },
  {
   "cell_type": "code",
   "execution_count": 11,
   "metadata": {},
   "outputs": [
    {
     "name": "stderr",
     "output_type": "stream",
     "text": [
      "Parameter image_name will be renamed to image_uri in SageMaker Python SDK v2.\n"
     ]
    },
    {
     "name": "stdout",
     "output_type": "stream",
     "text": [
      "2020-11-07 17:31:59 Starting - Starting the training job...\n",
      "2020-11-07 17:32:01 Starting - Launching requested ML instances......\n",
      "2020-11-07 17:33:07 Starting - Preparing the instances for training......\n",
      "2020-11-07 17:34:23 Downloading - Downloading input data\n",
      "2020-11-07 17:34:23 Training - Downloading the training image...\n",
      "2020-11-07 17:35:00 Uploading - Uploading generated training model\u001b[34mINFO:sagemaker-containers:Imported framework sagemaker_xgboost_container.training\u001b[0m\n",
      "\u001b[34mINFO:sagemaker-containers:Failed to parse hyperparameter eval_metric value auc to Json.\u001b[0m\n",
      "\u001b[34mReturning the value itself\u001b[0m\n",
      "\u001b[34mINFO:sagemaker-containers:Failed to parse hyperparameter objective value binary:logistic to Json.\u001b[0m\n",
      "\u001b[34mReturning the value itself\u001b[0m\n",
      "\u001b[34mINFO:sagemaker-containers:No GPUs detected (normal if no gpus installed)\u001b[0m\n",
      "\u001b[34mINFO:sagemaker_xgboost_container.training:Running XGBoost Sagemaker in algorithm mode\u001b[0m\n",
      "\u001b[34mINFO:root:Determined delimiter of CSV input is ','\u001b[0m\n",
      "\u001b[34mINFO:root:Determined delimiter of CSV input is ','\u001b[0m\n",
      "\u001b[34mINFO:root:Determined delimiter of CSV input is ','\u001b[0m\n",
      "\u001b[34m[17:34:51] 26028x104 matrix with 2706912 entries loaded from /opt/ml/input/data/train?format=csv&label_column=0&delimiter=,\u001b[0m\n",
      "\u001b[34mINFO:root:Determined delimiter of CSV input is ','\u001b[0m\n",
      "\u001b[34m[17:34:51] 6508x104 matrix with 676832 entries loaded from /opt/ml/input/data/validation?format=csv&label_column=0&delimiter=,\u001b[0m\n",
      "\u001b[34mINFO:root:Single node training.\u001b[0m\n",
      "\u001b[34mINFO:root:Train matrix has 26028 rows\u001b[0m\n",
      "\u001b[34mINFO:root:Validation matrix has 6508 rows\u001b[0m\n",
      "\u001b[34m[0]#011train-auc:0.88369#011validation-auc:0.88564\u001b[0m\n",
      "\u001b[34m[1]#011train-auc:0.89466#011validation-auc:0.89522\u001b[0m\n",
      "\u001b[34m[2]#011train-auc:0.90180#011validation-auc:0.90209\u001b[0m\n",
      "\u001b[34m[3]#011train-auc:0.90494#011validation-auc:0.90565\u001b[0m\n",
      "\u001b[34m[4]#011train-auc:0.90920#011validation-auc:0.90939\u001b[0m\n",
      "\u001b[34m[5]#011train-auc:0.91098#011validation-auc:0.91084\u001b[0m\n",
      "\u001b[34m[6]#011train-auc:0.91308#011validation-auc:0.91316\u001b[0m\n",
      "\u001b[34m[7]#011train-auc:0.91497#011validation-auc:0.91489\u001b[0m\n",
      "\u001b[34m[8]#011train-auc:0.91665#011validation-auc:0.91582\u001b[0m\n",
      "\u001b[34m[9]#011train-auc:0.91842#011validation-auc:0.91801\u001b[0m\n",
      "\u001b[34m[10]#011train-auc:0.91998#011validation-auc:0.91900\u001b[0m\n",
      "\u001b[34m[11]#011train-auc:0.92168#011validation-auc:0.91980\u001b[0m\n",
      "\u001b[34m[12]#011train-auc:0.92265#011validation-auc:0.92032\u001b[0m\n",
      "\u001b[34m[13]#011train-auc:0.92339#011validation-auc:0.92087\u001b[0m\n",
      "\u001b[34m[14]#011train-auc:0.92457#011validation-auc:0.92158\u001b[0m\n",
      "\u001b[34m[15]#011train-auc:0.92552#011validation-auc:0.92205\u001b[0m\n",
      "\u001b[34m[16]#011train-auc:0.92666#011validation-auc:0.92268\u001b[0m\n",
      "\u001b[34m[17]#011train-auc:0.92890#011validation-auc:0.92414\u001b[0m\n",
      "\u001b[34m[18]#011train-auc:0.92992#011validation-auc:0.92462\u001b[0m\n",
      "\u001b[34m[19]#011train-auc:0.93051#011validation-auc:0.92515\u001b[0m\n",
      "\u001b[34m[20]#011train-auc:0.93128#011validation-auc:0.92543\u001b[0m\n",
      "\u001b[34m[21]#011train-auc:0.93252#011validation-auc:0.92654\u001b[0m\n",
      "\u001b[34m[22]#011train-auc:0.93320#011validation-auc:0.92722\u001b[0m\n",
      "\u001b[34m[23]#011train-auc:0.93393#011validation-auc:0.92750\u001b[0m\n",
      "\u001b[34m[24]#011train-auc:0.93473#011validation-auc:0.92795\u001b[0m\n",
      "\u001b[34m[25]#011train-auc:0.93548#011validation-auc:0.92875\u001b[0m\n",
      "\u001b[34m[26]#011train-auc:0.93577#011validation-auc:0.92896\u001b[0m\n",
      "\u001b[34m[27]#011train-auc:0.93625#011validation-auc:0.92917\u001b[0m\n",
      "\u001b[34m[28]#011train-auc:0.93668#011validation-auc:0.92965\u001b[0m\n",
      "\u001b[34m[29]#011train-auc:0.93689#011validation-auc:0.92970\u001b[0m\n",
      "\u001b[34m[30]#011train-auc:0.93725#011validation-auc:0.93003\u001b[0m\n",
      "\u001b[34m[31]#011train-auc:0.93766#011validation-auc:0.93008\u001b[0m\n",
      "\u001b[34m[32]#011train-auc:0.93785#011validation-auc:0.93012\u001b[0m\n",
      "\u001b[34m[33]#011train-auc:0.93841#011validation-auc:0.92986\u001b[0m\n",
      "\u001b[34m[34]#011train-auc:0.93910#011validation-auc:0.93008\u001b[0m\n",
      "\u001b[34m[35]#011train-auc:0.93932#011validation-auc:0.93011\u001b[0m\n",
      "\u001b[34m[36]#011train-auc:0.93959#011validation-auc:0.93042\u001b[0m\n",
      "\u001b[34m[37]#011train-auc:0.93996#011validation-auc:0.93060\u001b[0m\n",
      "\u001b[34m[38]#011train-auc:0.94043#011validation-auc:0.93080\u001b[0m\n",
      "\u001b[34m[39]#011train-auc:0.94058#011validation-auc:0.93076\u001b[0m\n",
      "\u001b[34m[40]#011train-auc:0.94070#011validation-auc:0.93080\u001b[0m\n",
      "\u001b[34m[41]#011train-auc:0.94093#011validation-auc:0.93103\u001b[0m\n",
      "\u001b[34m[42]#011train-auc:0.94111#011validation-auc:0.93103\u001b[0m\n",
      "\u001b[34m[43]#011train-auc:0.94145#011validation-auc:0.93110\u001b[0m\n",
      "\u001b[34m[44]#011train-auc:0.94174#011validation-auc:0.93125\u001b[0m\n",
      "\u001b[34m[45]#011train-auc:0.94211#011validation-auc:0.93145\u001b[0m\n",
      "\u001b[34m[46]#011train-auc:0.94258#011validation-auc:0.93127\u001b[0m\n",
      "\u001b[34m[47]#011train-auc:0.94287#011validation-auc:0.93141\u001b[0m\n",
      "\u001b[34m[48]#011train-auc:0.94320#011validation-auc:0.93124\u001b[0m\n",
      "\u001b[34m[49]#011train-auc:0.94344#011validation-auc:0.93104\u001b[0m\n",
      "\u001b[34m[50]#011train-auc:0.94359#011validation-auc:0.93124\u001b[0m\n",
      "\u001b[34m[51]#011train-auc:0.94374#011validation-auc:0.93128\u001b[0m\n",
      "\u001b[34m[52]#011train-auc:0.94404#011validation-auc:0.93137\u001b[0m\n",
      "\u001b[34m[53]#011train-auc:0.94410#011validation-auc:0.93138\u001b[0m\n",
      "\u001b[34m[54]#011train-auc:0.94445#011validation-auc:0.93134\u001b[0m\n",
      "\u001b[34m[55]#011train-auc:0.94450#011validation-auc:0.93129\u001b[0m\n",
      "\u001b[34m[56]#011train-auc:0.94461#011validation-auc:0.93129\u001b[0m\n",
      "\u001b[34m[57]#011train-auc:0.94483#011validation-auc:0.93128\u001b[0m\n",
      "\u001b[34m[58]#011train-auc:0.94522#011validation-auc:0.93127\u001b[0m\n",
      "\u001b[34m[59]#011train-auc:0.94534#011validation-auc:0.93139\u001b[0m\n",
      "\u001b[34m[60]#011train-auc:0.94544#011validation-auc:0.93143\u001b[0m\n",
      "\u001b[34m[61]#011train-auc:0.94576#011validation-auc:0.93149\u001b[0m\n",
      "\u001b[34m[62]#011train-auc:0.94643#011validation-auc:0.93158\u001b[0m\n",
      "\u001b[34m[63]#011train-auc:0.94658#011validation-auc:0.93159\u001b[0m\n",
      "\u001b[34m[64]#011train-auc:0.94686#011validation-auc:0.93134\u001b[0m\n",
      "\u001b[34m[65]#011train-auc:0.94712#011validation-auc:0.93115\u001b[0m\n",
      "\u001b[34m[66]#011train-auc:0.94728#011validation-auc:0.93106\u001b[0m\n",
      "\u001b[34m[67]#011train-auc:0.94733#011validation-auc:0.93116\u001b[0m\n",
      "\u001b[34m[68]#011train-auc:0.94743#011validation-auc:0.93113\u001b[0m\n",
      "\u001b[34m[69]#011train-auc:0.94803#011validation-auc:0.93104\u001b[0m\n",
      "\u001b[34m[70]#011train-auc:0.94824#011validation-auc:0.93101\u001b[0m\n",
      "\u001b[34m[71]#011train-auc:0.94883#011validation-auc:0.93088\u001b[0m\n",
      "\u001b[34m[72]#011train-auc:0.94908#011validation-auc:0.93081\u001b[0m\n",
      "\u001b[34m[73]#011train-auc:0.94912#011validation-auc:0.93088\u001b[0m\n",
      "\u001b[34m[74]#011train-auc:0.94929#011validation-auc:0.93085\u001b[0m\n",
      "\u001b[34m[75]#011train-auc:0.94949#011validation-auc:0.93088\u001b[0m\n",
      "\u001b[34m[76]#011train-auc:0.94971#011validation-auc:0.93100\u001b[0m\n",
      "\u001b[34m[77]#011train-auc:0.94979#011validation-auc:0.93094\u001b[0m\n",
      "\u001b[34m[78]#011train-auc:0.95003#011validation-auc:0.93093\u001b[0m\n",
      "\u001b[34m[79]#011train-auc:0.95007#011validation-auc:0.93091\u001b[0m\n",
      "\u001b[34m[80]#011train-auc:0.95009#011validation-auc:0.93099\u001b[0m\n",
      "\u001b[34m[81]#011train-auc:0.95020#011validation-auc:0.93104\u001b[0m\n",
      "\u001b[34m[82]#011train-auc:0.95024#011validation-auc:0.93109\u001b[0m\n",
      "\u001b[34m[83]#011train-auc:0.95083#011validation-auc:0.93107\u001b[0m\n",
      "\n",
      "2020-11-07 17:35:07 Completed - Training job completed\n",
      "Training seconds: 60\n",
      "Billable seconds: 60\n"
     ]
    }
   ],
   "source": [
    "sess = sagemaker.Session()\n",
    "out_sagemaker_model_prefix=\"model-xgboost-sagemaker\"\n",
    "\n",
    "xgb = sagemaker.estimator.Estimator(container,\n",
    "                                    role, \n",
    "                                    train_instance_count=1, \n",
    "                                    train_instance_type='ml.m4.xlarge',\n",
    "                                    output_path='s3://{}/sagemaker/{}'.format(income_bucket_name, out_sagemaker_model_prefix),\n",
    "                                    sagemaker_session=sess)\n",
    "\n",
    "xgb.set_hyperparameters(max_depth= 6, \n",
    "                        eta = 0.3,\n",
    "                        objective='binary:logistic',\n",
    "                        seed= 4241,\n",
    "                        min_child_weight = 5,\n",
    "                        num_round = 250,\n",
    "                        eval_metric='auc',\n",
    "                        early_stopping_rounds=20)\n",
    "\n",
    "xgb.fit({'train': s3_input_train, 'validation': s3_input_validation})"
   ]
  },
  {
   "cell_type": "code",
   "execution_count": 12,
   "metadata": {},
   "outputs": [
    {
     "name": "stdout",
     "output_type": "stream",
     "text": [
      "s3.ObjectSummary(bucket_name='hypatai-income-bucket', key='XGBOOST_X_test.csv')\n",
      "s3.ObjectSummary(bucket_name='hypatai-income-bucket', key='XGBOOST_X_train.csv')\n",
      "s3.ObjectSummary(bucket_name='hypatai-income-bucket', key='XGBOOST_model.pickle')\n",
      "s3.ObjectSummary(bucket_name='hypatai-income-bucket', key='XGBOOST_y_test.csv')\n",
      "s3.ObjectSummary(bucket_name='hypatai-income-bucket', key='XGBOOST_y_train.csv')\n",
      "s3.ObjectSummary(bucket_name='hypatai-income-bucket', key='sagemaker/TrainDataFit-xgboost-sagemaker.csv')\n",
      "s3.ObjectSummary(bucket_name='hypatai-income-bucket', key='sagemaker/ValidData-xgboost-sagemaker.csv')\n",
      "s3.ObjectSummary(bucket_name='hypatai-income-bucket', key='sagemaker/model-xgboost-sagemaker/sagemaker-xgboost-2020-11-07-17-31-59-274/output/model.tar.gz')\n"
     ]
    }
   ],
   "source": [
    "for obj in income_bucket.objects.all():\n",
    "    print(obj)"
   ]
  },
  {
   "cell_type": "markdown",
   "metadata": {},
   "source": [
    "## Get the Prefix of the Model Version for Later Use"
   ]
  },
  {
   "cell_type": "code",
   "execution_count": 13,
   "metadata": {},
   "outputs": [
    {
     "data": {
      "text/plain": [
       "'sagemaker-xgboost-2020-11-07-17-31-59-274'"
      ]
     },
     "execution_count": 13,
     "metadata": {},
     "output_type": "execute_result"
    }
   ],
   "source": [
    "model_name=\"\"\n",
    "resp = s3_client.list_objects_v2(Bucket='hypatai-income-bucket')\n",
    "for obj in resp['Contents']:\n",
    "    if obj['Key'][:34]=='sagemaker/model-xgboost-sagemaker/':\n",
    "        model_name=model_name.join(obj['Key'][34:75])\n",
    "model_name"
   ]
  },
  {
   "cell_type": "markdown",
   "metadata": {},
   "source": [
    "## Download SageMaker Model"
   ]
  },
  {
   "cell_type": "code",
   "execution_count": 14,
   "metadata": {},
   "outputs": [
    {
     "name": "stdout",
     "output_type": "stream",
     "text": [
      "download: s3://hypatai-income-bucket/sagemaker/model-xgboost-sagemaker/sagemaker-xgboost-2020-11-07-17-31-59-274/output/model.tar.gz to ./model.tar.gz\r\n"
     ]
    }
   ],
   "source": [
    "!aws s3 cp s3://hypatai-income-bucket/sagemaker/model-xgboost-sagemaker/$model_name/output/model.tar.gz ."
   ]
  },
  {
   "cell_type": "code",
   "execution_count": 15,
   "metadata": {},
   "outputs": [],
   "source": [
    "tar = tarfile.open('model.tar.gz')\n",
    "tar.extractall()\n",
    "tar.close()\n",
    "model = pickle.load(open('xgboost-model', 'rb'))"
   ]
  },
  {
   "cell_type": "markdown",
   "metadata": {},
   "source": [
    "## Get Feature Names from Booster Object and Plot Top Features"
   ]
  },
  {
   "cell_type": "code",
   "execution_count": 16,
   "metadata": {},
   "outputs": [
    {
     "name": "stdout",
     "output_type": "stream",
     "text": [
      "['f31', 'f2', 'f3', 'f4', 'f0', 'f22', 'f27', 'f45', 'f39', 'f55']\n"
     ]
    }
   ],
   "source": [
    "list_keys=list(model.get_score().keys())\n",
    "print(list_keys[:10])\n",
    "new_keys=[]\n",
    "for _key in list_keys:\n",
    "    _key=int(_key.replace('f',''))\n",
    "    new_keys.append(_key)\n",
    "feature_list=list(XGBOOST_X_train.iloc[:,new_keys])\n",
    "\n",
    "def plot_feature_importance(model,feature_names):\n",
    "\n",
    "    feature_importance = pd.DataFrame({\n",
    "        'feature': feature_names,\n",
    "        'importance': list(model.get_score(importance_type ='total_gain').values())})\n",
    "    feature_importance.sort_values('importance', ascending = False, inplace = True)\n",
    "    best_features = feature_importance.head(10)\n",
    "    plt.figure(figsize = (8,6))\n",
    "    sns.barplot(x = 'importance', y = 'feature', data = best_features)\n",
    "    plt.show()\n",
    "      "
   ]
  },
  {
   "cell_type": "code",
   "execution_count": 17,
   "metadata": {},
   "outputs": [
    {
     "data": {
      "image/png": "[encoded data removed]",
      "text/plain": [
       "<Figure size 576x432 with 1 Axes>"
      ]
     },
     "metadata": {
      "needs_background": "light"
     },
     "output_type": "display_data"
    }
   ],
   "source": [
    "plot_feature_importance(model,feature_list)"
   ]
  },
  {
   "cell_type": "markdown",
   "metadata": {},
   "source": [
    "## Deploy Model"
   ]
  },
  {
   "cell_type": "code",
   "execution_count": 18,
   "metadata": {},
   "outputs": [
    {
     "name": "stderr",
     "output_type": "stream",
     "text": [
      "Parameter image will be renamed to image_uri in SageMaker Python SDK v2.\n"
     ]
    },
    {
     "name": "stdout",
     "output_type": "stream",
     "text": [
      "-------------!"
     ]
    }
   ],
   "source": [
    "serializer = csv_serializer\n",
    "serializer.CONTENT_TYPE = \"text/csv\"\n",
    "\n",
    "predictor = xgb.deploy(\n",
    "    initial_instance_count=1,\n",
    "    instance_type=\"ml.m4.xlarge\",\n",
    "    serializer=serializer\n",
    ")"
   ]
  },
  {
   "cell_type": "markdown",
   "metadata": {},
   "source": [
    "## Get Predictions for the Validation Data"
   ]
  },
  {
   "cell_type": "code",
   "execution_count": 19,
   "metadata": {},
   "outputs": [],
   "source": [
    "sagemaker_xgboost_preds_valid=predictor.predict(XGBOOST_X_train.iloc[n_first:].to_numpy()).decode('utf-8').split(\",\")\n",
    "sagemaker_xgboost_preds_valid=[float(pred.replace(\"'\",\"\")) for pred in sagemaker_xgboost_preds_valid ]"
   ]
  },
  {
   "cell_type": "code",
   "execution_count": 20,
   "metadata": {},
   "outputs": [
    {
     "data": {
      "text/plain": [
       "[0.06363335996866226,\n",
       " 0.2846936583518982,\n",
       " 0.5771022439002991,\n",
       " 0.015583465807139874,\n",
       " 0.04267227277159691,\n",
       " 0.9511284828186035,\n",
       " 0.7952181100845337,\n",
       " 0.05299854651093483,\n",
       " 0.01479530893266201,\n",
       " 0.14712756872177124]"
      ]
     },
     "execution_count": 20,
     "metadata": {},
     "output_type": "execute_result"
    }
   ],
   "source": [
    "sagemaker_xgboost_preds_valid[:10]"
   ]
  },
  {
   "cell_type": "markdown",
   "metadata": {},
   "source": [
    "## Plot Roc Curve"
   ]
  },
  {
   "cell_type": "code",
   "execution_count": 21,
   "metadata": {},
   "outputs": [],
   "source": [
    "def plot_roc_curve (y, y_pred,which_set):\n",
    "    fpr, tpr, threshold = roc_curve(y, y_pred)\n",
    "    roc_auc = auc(fpr, tpr)    \n",
    "    plt.figure()\n",
    "    plt.plot(fpr, tpr, color = 'darkorange', lw = 2, label = 'ROC curve (area = %0.3f)' % (roc_auc))\n",
    "    plt.plot([0,1],[0,1], color = 'navy', lw = 2, linestyle = '--')\n",
    "    plt.xlim([0,1])\n",
    "    plt.ylim([0,1.05])\n",
    "    plt.xlabel('False positive rate')\n",
    "    plt.ylabel('True positive rate')\n",
    "    plt.title('ROC curve for '+ which_set+ ' Set')\n",
    "    plt.legend()\n",
    "    plt.show()\n",
    "    \n",
    "    return y_pred, fpr, tpr, threshold"
   ]
  },
  {
   "cell_type": "code",
   "execution_count": 22,
   "metadata": {},
   "outputs": [
    {
     "data": {
      "image/png": "[encoded data removed]",
      "text/plain": [
       "<Figure size 432x288 with 1 Axes>"
      ]
     },
     "metadata": {
      "needs_background": "light"
     },
     "output_type": "display_data"
    }
   ],
   "source": [
    "y_pred_valid, fpr_valid, tpr_valid, threshold_valid =plot_roc_curve(XGBOOST_y_train.iloc[n_first:],sagemaker_xgboost_preds_valid,which_set=\"Validation\")"
   ]
  },
  {
   "cell_type": "markdown",
   "metadata": {},
   "source": [
    "## Save Predictions on S3"
   ]
  },
  {
   "cell_type": "code",
   "execution_count": 23,
   "metadata": {},
   "outputs": [],
   "source": [
    "out_sagemaker_pred_key=\"ValidDataPred-xgboost-sagemaker.csv\"\n",
    "sagemaker_xgboost_preds_valid=pd.DataFrame({\"y_pred\":sagemaker_xgboost_preds_valid })\n",
    "sagemaker_xgboost_preds_valid.to_csv(out_sagemaker_pred_key,header=False,index=False)\n",
    "prefix_pred=\"sagemaker/preds-xgboost-sagemaker/\"+model_name+\"/output\"\n",
    "\n",
    "income_bucket.Object(os.path.join(prefix_pred,out_sagemaker_pred_key)).upload_file(out_sagemaker_pred_key)"
   ]
  },
  {
   "cell_type": "code",
   "execution_count": 24,
   "metadata": {},
   "outputs": [
    {
     "name": "stdout",
     "output_type": "stream",
     "text": [
      "s3.ObjectSummary(bucket_name='hypatai-income-bucket', key='XGBOOST_X_test.csv')\n",
      "s3.ObjectSummary(bucket_name='hypatai-income-bucket', key='XGBOOST_X_train.csv')\n",
      "s3.ObjectSummary(bucket_name='hypatai-income-bucket', key='XGBOOST_model.pickle')\n",
      "s3.ObjectSummary(bucket_name='hypatai-income-bucket', key='XGBOOST_y_test.csv')\n",
      "s3.ObjectSummary(bucket_name='hypatai-income-bucket', key='XGBOOST_y_train.csv')\n",
      "s3.ObjectSummary(bucket_name='hypatai-income-bucket', key='sagemaker/TrainDataFit-xgboost-sagemaker.csv')\n",
      "s3.ObjectSummary(bucket_name='hypatai-income-bucket', key='sagemaker/ValidData-xgboost-sagemaker.csv')\n",
      "s3.ObjectSummary(bucket_name='hypatai-income-bucket', key='sagemaker/model-xgboost-sagemaker/sagemaker-xgboost-2020-11-07-17-31-59-274/output/model.tar.gz')\n",
      "s3.ObjectSummary(bucket_name='hypatai-income-bucket', key='sagemaker/preds-xgboost-sagemaker/sagemaker-xgboost-2020-11-07-17-31-59-274/output/ValidDataPred-xgboost-sagemaker.csv')\n"
     ]
    }
   ],
   "source": [
    "for obj in income_bucket.objects.all():\n",
    "    print(obj)"
   ]
  },
  {
   "cell_type": "code",
   "execution_count": 25,
   "metadata": {},
   "outputs": [],
   "source": [
    "sagemaker.Session().delete_endpoint(predictor.endpoint)"
   ]
  }
 ],
 "metadata": {
  "kernelspec": {
   "display_name": "conda_python3",
   "language": "python",
   "name": "conda_python3"
  },
  "language_info": {
   "codemirror_mode": {
    "name": "ipython",
    "version": 3
   },
   "file_extension": ".py",
   "mimetype": "text/x-python",
   "name": "python",
   "nbconvert_exporter": "python",
   "pygments_lexer": "ipython3",
   "version": "3.6.10"
  }
 },
 "nbformat": 4,
 "nbformat_minor": 4
}
